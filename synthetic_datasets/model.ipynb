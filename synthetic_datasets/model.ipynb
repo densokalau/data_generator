{
 "cells": [
  {
   "cell_type": "code",
   "execution_count": 23,
   "metadata": {},
   "outputs": [],
   "source": [
    "import numpy as np\n",
    "from datetime import datetime, timedelta"
   ]
  },
  {
   "cell_type": "code",
   "execution_count": 51,
   "metadata": {},
   "outputs": [],
   "source": [
    "def create_event_data(event_name, user_id, timestamp, properties=None):\n",
    "    d = {\n",
    "        'event_name': event_name,\n",
    "        'user_id': user_id,\n",
    "        'timestamp': timestamp\n",
    "    }\n",
    "    \n",
    "    if properties is not None:\n",
    "        for p in properties.keys():\n",
    "            d[p] = properties\n",
    "    \n",
    "    return d"
   ]
  },
  {
   "cell_type": "code",
   "execution_count": 79,
   "metadata": {},
   "outputs": [],
   "source": [
    "users = dict()\n",
    "items = dict()"
   ]
  },
  {
   "cell_type": "code",
   "execution_count": 80,
   "metadata": {},
   "outputs": [],
   "source": [
    "class Item:\n",
    "    def __init__(self, item_id, lister_id, listing_date):\n",
    "        self.item_id = item_id\n",
    "        self.lister_id = lister_id\n",
    "        self.listing_date = listing_date\n",
    "        \n",
    "        \n",
    "\n",
    "\n",
    "class User:\n",
    "    def __init__(self, name, user_id):\n",
    "        self.name = name\n",
    "        self.user_id = user_id\n",
    " \n",
    "\n",
    "    \n",
    "    def view_campaign():\n",
    "        pass\n",
    "   \n",
    "\n",
    "    \n",
    "    def visit(self, timestamp, os, country):\n",
    "        self.visits = self.visits + 1 if hasattr(self, 'visits') else 1\n",
    "        self.last_visit = timestamp\n",
    "        self.last_activity = timestamp\n",
    "        \n",
    "        self.last_properties = {\n",
    "            'os': os,\n",
    "            'country': country\n",
    "        }\n",
    "        \n",
    "        return create_event_data(event_name='visit', user_id=self.user_id, timestamp=timestamp, properties=self.last_properties)\n",
    "    \n",
    "\n",
    "    \n",
    "    def create_account(self, timestamp):\n",
    "        self.registered = True\n",
    "        self.registration_date = timestamp\n",
    "        \n",
    "        return create_event_data(event_name='registration', user_id=self.user_id, timestamp=timestamp, properties=self.last_properties)\n",
    "    \n",
    "  \n",
    "\n",
    "    def list_item(self, timestamp):\n",
    "        self.listed_items = self.listed_items + 1 if hasattr(self, 'listed_items') else 1\n",
    "        self.active_items = self.active_items + 1 if hasattr(self, 'active_items') else 1\n",
    "\n",
    "        item_id = 1 if len(items.keys()) == 0 else max(items.keys()) + 1\n",
    "        items[item_id] = Item(item_id = item_id, lister_id = self.user_id, listing_date = timestamp)\n",
    "        \n",
    "        return create_event_data(event_name='list_item', user_id=self.user_id, timestamp=timestamp, properties=self.last_properties)\n",
    "        \n",
    "    \n",
    "    \n",
    "    def search():\n",
    "        pass\n",
    "    \n",
    "    \n",
    "    def view_item():\n",
    "        pass\n",
    "    \n",
    "    \n",
    "    def add_to_basket():\n",
    "        pass\n",
    "    \n",
    "    \n",
    "    def pay():\n",
    "        pass\n",
    "    \n",
    "    \n",
    "    def sell():\n",
    "        pass\n",
    "    \n",
    "    \n",
    "    def do_nothing():\n",
    "        pass\n",
    "    \n",
    "    \n",
    "    def churn():\n",
    "        pass"
   ]
  },
  {
   "cell_type": "code",
   "execution_count": 81,
   "metadata": {},
   "outputs": [],
   "source": [
    "# create randomizer\n",
    "rand = np.random.default_rng(seed=1)"
   ]
  },
  {
   "cell_type": "code",
   "execution_count": 82,
   "metadata": {},
   "outputs": [],
   "source": [
    "for i in range(1, 1001):\n",
    "    users[i] = User(name=str(i), user_id=i)\n",
    "    users[i].visit(timestamp=datetime.now().strftime('%Y-%m-%d %H:%M:%S'), os='ios', country='DE')\n",
    "    \n",
    "    if rand.binomial(n=1, p=0.8) == 1:\n",
    "        users[i].create_account(timestamp=datetime.now().strftime('%Y-%m-%d %H:%M:%S'))\n",
    "    \n",
    "    if hasattr(users[i], 'registered') and users[i].registered:\n",
    "        if rand.binomial(n=1, p=0.05) == 1:\n",
    "            users[i].list_item(timestamp=datetime.now().strftime('%Y-%m-%d %H:%M:%S'))"
   ]
  },
  {
   "cell_type": "code",
   "execution_count": 84,
   "metadata": {},
   "outputs": [
    {
     "name": "stdout",
     "output_type": "stream",
     "text": [
      "user_id: 1; registration date: 2021-04-06 23:08:29\n",
      "user_id: 2; registration date: 2021-04-06 23:08:29\n",
      "user_id: 3; registration date: 2021-04-06 23:08:29\n",
      "user_id: 4; registration date: not registered\n",
      "user_id: 5; registration date: 2021-04-06 23:08:29\n",
      "user_id: 6; registration date: 2021-04-06 23:08:29\n",
      "user_id: 7; registration date: 2021-04-06 23:08:29\n",
      "user_id: 8; registration date: 2021-04-06 23:08:29\n",
      "user_id: 9; registration date: 2021-04-06 23:08:29\n",
      "user_id: 10; registration date: 2021-04-06 23:08:29\n",
      "user_id: 11; registration date: 2021-04-06 23:08:29\n",
      "user_id: 12; registration date: 2021-04-06 23:08:29\n",
      "user_id: 13; registration date: not registered\n",
      "user_id: 14; registration date: not registered\n",
      "user_id: 15; registration date: 2021-04-06 23:08:29\n",
      "user_id: 16; registration date: 2021-04-06 23:08:29\n",
      "user_id: 17; registration date: not registered\n",
      "user_id: 18; registration date: 2021-04-06 23:08:29\n",
      "user_id: 19; registration date: 2021-04-06 23:08:29\n",
      "user_id: 20; registration date: 2021-04-06 23:08:29\n"
     ]
    }
   ],
   "source": [
    "# Check users\n",
    "for i in range(1, 21):\n",
    "    args = {\n",
    "        'user_id': users[i].user_id, \n",
    "        'registration_date': users[i].registration_date if hasattr(users[i], 'registered') else 'not registered'\n",
    "    }\n",
    "    \n",
    "    print('user_id: {user_id}; registration date: {registration_date}'.format(**args))"
   ]
  },
  {
   "cell_type": "code",
   "execution_count": 85,
   "metadata": {},
   "outputs": [
    {
     "name": "stdout",
     "output_type": "stream",
     "text": [
      "item_id: 1; lister_id date: 1; listing date: 2021-04-06 23:08:29\n",
      "item_id: 2; lister_id date: 62; listing date: 2021-04-06 23:08:29\n",
      "item_id: 3; lister_id date: 91; listing date: 2021-04-06 23:08:29\n",
      "item_id: 4; lister_id date: 95; listing date: 2021-04-06 23:08:29\n",
      "item_id: 5; lister_id date: 123; listing date: 2021-04-06 23:08:29\n",
      "item_id: 6; lister_id date: 129; listing date: 2021-04-06 23:08:29\n",
      "item_id: 7; lister_id date: 163; listing date: 2021-04-06 23:08:29\n",
      "item_id: 8; lister_id date: 219; listing date: 2021-04-06 23:08:29\n",
      "item_id: 9; lister_id date: 232; listing date: 2021-04-06 23:08:29\n",
      "item_id: 10; lister_id date: 258; listing date: 2021-04-06 23:08:29\n",
      "item_id: 11; lister_id date: 327; listing date: 2021-04-06 23:08:29\n",
      "item_id: 12; lister_id date: 330; listing date: 2021-04-06 23:08:29\n",
      "item_id: 13; lister_id date: 358; listing date: 2021-04-06 23:08:29\n",
      "item_id: 14; lister_id date: 373; listing date: 2021-04-06 23:08:29\n",
      "item_id: 15; lister_id date: 391; listing date: 2021-04-06 23:08:29\n",
      "item_id: 16; lister_id date: 432; listing date: 2021-04-06 23:08:29\n",
      "item_id: 17; lister_id date: 440; listing date: 2021-04-06 23:08:29\n",
      "item_id: 18; lister_id date: 459; listing date: 2021-04-06 23:08:29\n",
      "item_id: 19; lister_id date: 511; listing date: 2021-04-06 23:08:29\n",
      "item_id: 20; lister_id date: 524; listing date: 2021-04-06 23:08:29\n"
     ]
    }
   ],
   "source": [
    "# Check items\n",
    "for i in range(1, 21):\n",
    "    args = {\n",
    "        'item_id': items[i].item_id, \n",
    "        'lister_id': items[i].lister_id,\n",
    "        'listing_date': items[i].listing_date\n",
    "    }\n",
    "    \n",
    "    print('item_id: {item_id}; lister_id date: {lister_id}; listing date: {listing_date}'.format(**args))"
   ]
  },
  {
   "cell_type": "code",
   "execution_count": null,
   "metadata": {},
   "outputs": [],
   "source": []
  }
 ],
 "metadata": {
  "kernelspec": {
   "display_name": "Python 3",
   "language": "python",
   "name": "python3"
  },
  "language_info": {
   "codemirror_mode": {
    "name": "ipython",
    "version": 3
   },
   "file_extension": ".py",
   "mimetype": "text/x-python",
   "name": "python",
   "nbconvert_exporter": "python",
   "pygments_lexer": "ipython3",
   "version": "3.8.2"
  }
 },
 "nbformat": 4,
 "nbformat_minor": 4
}
