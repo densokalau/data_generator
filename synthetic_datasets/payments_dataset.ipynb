{
 "cells": [
  {
   "cell_type": "markdown",
   "metadata": {},
   "source": [
    "# Retention dataset"
   ]
  },
  {
   "cell_type": "code",
   "execution_count": 1,
   "metadata": {},
   "outputs": [],
   "source": [
    "import pandas as pd\n",
    "import numpy as np\n",
    "import pyarrow\n",
    "from datetime import datetime, date, timedelta\n",
    "import time\n",
    "\n",
    "from google.cloud import storage\n",
    "from google.cloud import bigquery\n",
    "\n",
    "import sys\n",
    "import os\n",
    "\n",
    "sys.path.append(os.path.realpath('../../'))\n",
    "import data_generator"
   ]
  },
  {
   "cell_type": "code",
   "execution_count": 2,
   "metadata": {},
   "outputs": [],
   "source": [
    "bigquery_client = bigquery.Client.from_service_account_json('../../credentials/data-analysis-sql-309220-6ce084250abd.json')"
   ]
  },
  {
   "cell_type": "code",
   "execution_count": 5,
   "metadata": {},
   "outputs": [
    {
     "data": {
      "text/html": [
       "<div>\n",
       "<style scoped>\n",
       "    .dataframe tbody tr th:only-of-type {\n",
       "        vertical-align: middle;\n",
       "    }\n",
       "\n",
       "    .dataframe tbody tr th {\n",
       "        vertical-align: top;\n",
       "    }\n",
       "\n",
       "    .dataframe thead th {\n",
       "        text-align: right;\n",
       "    }\n",
       "</style>\n",
       "<table border=\"1\" class=\"dataframe\">\n",
       "  <thead>\n",
       "    <tr style=\"text-align: right;\">\n",
       "      <th></th>\n",
       "      <th>date</th>\n",
       "      <th>group</th>\n",
       "      <th>country</th>\n",
       "      <th>platform</th>\n",
       "      <th>amount</th>\n",
       "    </tr>\n",
       "  </thead>\n",
       "  <tbody>\n",
       "    <tr>\n",
       "      <th>0</th>\n",
       "      <td>2021-01-09</td>\n",
       "      <td>experimental</td>\n",
       "      <td>UK</td>\n",
       "      <td>ios</td>\n",
       "      <td>41.44</td>\n",
       "    </tr>\n",
       "    <tr>\n",
       "      <th>1</th>\n",
       "      <td>2021-03-08</td>\n",
       "      <td>control</td>\n",
       "      <td>UK</td>\n",
       "      <td>web</td>\n",
       "      <td>3.97</td>\n",
       "    </tr>\n",
       "    <tr>\n",
       "      <th>2</th>\n",
       "      <td>2021-02-18</td>\n",
       "      <td>control</td>\n",
       "      <td>FR</td>\n",
       "      <td>android</td>\n",
       "      <td>31.76</td>\n",
       "    </tr>\n",
       "    <tr>\n",
       "      <th>3</th>\n",
       "      <td>2021-03-09</td>\n",
       "      <td>control</td>\n",
       "      <td>FR</td>\n",
       "      <td>android</td>\n",
       "      <td>1.38</td>\n",
       "    </tr>\n",
       "    <tr>\n",
       "      <th>4</th>\n",
       "      <td>2021-02-08</td>\n",
       "      <td>experimental</td>\n",
       "      <td>IT</td>\n",
       "      <td>ios</td>\n",
       "      <td>10.67</td>\n",
       "    </tr>\n",
       "  </tbody>\n",
       "</table>\n",
       "</div>"
      ],
      "text/plain": [
       "         date         group country platform  amount\n",
       "0  2021-01-09  experimental      UK      ios   41.44\n",
       "1  2021-03-08       control      UK      web    3.97\n",
       "2  2021-02-18       control      FR  android   31.76\n",
       "3  2021-03-09       control      FR  android    1.38\n",
       "4  2021-02-08  experimental      IT      ios   10.67"
      ]
     },
     "execution_count": 5,
     "metadata": {},
     "output_type": "execute_result"
    }
   ],
   "source": [
    "params = {\n",
    "    'dates': {\n",
    "        'date': {\n",
    "            'start': '2021-01-01', \n",
    "            'end': '2021-03-31'\n",
    "        }\n",
    "    }, \n",
    "    'categorical': {\n",
    "        'group': {\n",
    "            'categories': ['control', 'experimental'],\n",
    "            'probs': [0.5, 0.5],\n",
    "            'indices': [1, 1.05]\n",
    "        },\n",
    "        'country': {\n",
    "            'categories': ['UK', 'DE', 'FR', 'IT'], \n",
    "            'probs': [0.31, 0.27, 0.23, 0.19], \n",
    "            'indices': [0.98, 1.03, 0.99, 1.02]\n",
    "        }, \n",
    "        'platform': {\n",
    "            'categories': ['android', 'ios', 'web'], \n",
    "            'probs': [0.41, 0.29, 0.3], \n",
    "            'indices': [0.99, 1.06, 0.94]\n",
    "        }\n",
    "    }, \n",
    "    'values': {\n",
    "        'amount': {\n",
    "            'distribution': 'exponential', \n",
    "            'parameters': {\n",
    "                'scale': 10\n",
    "            }, \n",
    "            'indices': True, \n",
    "            'min': 1, \n",
    "            'round': 2\n",
    "        }\n",
    "    }\n",
    "}\n",
    "\n",
    "\n",
    "df = data_generator.create_dataset(rows=10000, params=params, seed=1)\n",
    "df.head()"
   ]
  },
  {
   "cell_type": "code",
   "execution_count": 9,
   "metadata": {},
   "outputs": [
    {
     "name": "stdout",
     "output_type": "stream",
     "text": [
      "| date       | group        | country   | platform   |   amount |\n",
      "|:-----------|:-------------|:----------|:-----------|---------:|\n",
      "| 2021-02-15 | control      | DE        | android    |     1.5  |\n",
      "| 2021-01-25 | experimental | DE        | android    |     7.87 |\n",
      "| 2021-01-20 | experimental | FR        | ios        |    30.97 |\n",
      "| 2021-01-30 | experimental | FR        | web        |     2.77 |\n",
      "| 2021-01-26 | control      | IT        | ios        |     1.7  |\n",
      "| 2021-01-18 | experimental | DE        | android    |    27.6  |\n",
      "| 2021-02-09 | experimental | IT        | android    |     1.62 |\n",
      "| 2021-03-23 | control      | FR        | web        |     3.97 |\n",
      "| 2021-02-11 | control      | IT        | android    |    16.54 |\n",
      "| 2021-03-05 | control      | IT        | android    |    13.72 |\n"
     ]
    }
   ],
   "source": [
    "print(df.sample(frac=0.001).to_markdown(index=False))"
   ]
  },
  {
   "cell_type": "markdown",
   "metadata": {},
   "source": [
    "### Write the dataset to BigQuery"
   ]
  },
  {
   "cell_type": "code",
   "execution_count": 10,
   "metadata": {},
   "outputs": [],
   "source": [
    "df.to_csv('payments.csv', index=False)"
   ]
  },
  {
   "cell_type": "code",
   "execution_count": 11,
   "metadata": {},
   "outputs": [
    {
     "data": {
      "text/plain": [
       "<google.cloud.bigquery.job.load.LoadJob at 0x133cc81f0>"
      ]
     },
     "execution_count": 11,
     "metadata": {},
     "output_type": "execute_result"
    }
   ],
   "source": [
    "table_ref = bigquery_client.dataset('synthetic').table('payments')\n",
    "\n",
    "job_config = bigquery.LoadJobConfig()\n",
    "job_config.source_format = bigquery.SourceFormat.CSV\n",
    "job_config.skip_leading_rows = 1 # ignore the header\n",
    "job_config.autodetect = True\n",
    "\n",
    "with open('payments.csv', 'rb') as source_file:\n",
    "    job = bigquery_client.load_table_from_file(\n",
    "        source_file, table_ref, job_config=job_config\n",
    "    )\n",
    "\n",
    "job.result()"
   ]
  },
  {
   "cell_type": "code",
   "execution_count": 12,
   "metadata": {},
   "outputs": [],
   "source": [
    "%%bash\n",
    "rm payments.csv"
   ]
  },
  {
   "cell_type": "code",
   "execution_count": null,
   "metadata": {},
   "outputs": [],
   "source": []
  }
 ],
 "metadata": {
  "kernelspec": {
   "display_name": "Python 3",
   "language": "python",
   "name": "python3"
  },
  "language_info": {
   "codemirror_mode": {
    "name": "ipython",
    "version": 3
   },
   "file_extension": ".py",
   "mimetype": "text/x-python",
   "name": "python",
   "nbconvert_exporter": "python",
   "pygments_lexer": "ipython3",
   "version": "3.8.2"
  }
 },
 "nbformat": 4,
 "nbformat_minor": 4
}
